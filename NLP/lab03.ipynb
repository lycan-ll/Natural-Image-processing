{
 "cells": [
  {
   "cell_type": "markdown",
   "id": "f08946ed",
   "metadata": {},
   "source": [
    "\n",
    "# Task 2: spaCy Hello World"
   ]
  },
  {
   "cell_type": "code",
   "execution_count": 1,
   "id": "d59ccd4a",
   "metadata": {},
   "outputs": [],
   "source": [
    "from spacy.tokens.doc import Doc\n",
    "from spacy.vocab import Vocab\n"
   ]
  },
  {
   "cell_type": "code",
   "execution_count": 2,
   "id": "58f38fe2",
   "metadata": {},
   "outputs": [
    {
     "name": "stdout",
     "output_type": "stream",
     "text": [
      "Hello World! \n"
     ]
    }
   ],
   "source": [
    "doc = Doc(Vocab(), words = [u'Hello', u'World!'])\n",
    "print(doc)"
   ]
  },
  {
   "cell_type": "code",
   "execution_count": 3,
   "id": "5c308a2d",
   "metadata": {},
   "outputs": [
    {
     "name": "stdout",
     "output_type": "stream",
     "text": [
      "<class 'spacy.tokens.doc.Doc'>\n"
     ]
    }
   ],
   "source": [
    "print(type(doc))\n"
   ]
  },
  {
   "cell_type": "code",
   "execution_count": 4,
   "id": "50d02601",
   "metadata": {},
   "outputs": [
    {
     "name": "stdout",
     "output_type": "stream",
     "text": [
      "<spacy.vocab.Vocab object at 0x000002423171B310>\n"
     ]
    }
   ],
   "source": [
    "print(doc.vocab)"
   ]
  },
  {
   "cell_type": "code",
   "execution_count": 5,
   "id": "c729f570",
   "metadata": {},
   "outputs": [
    {
     "name": "stdout",
     "output_type": "stream",
     "text": [
      "Hello\n",
      "World!\n"
     ]
    }
   ],
   "source": [
    "for token in doc:\n",
    "    lexeme = doc.vocab[token.text]\n",
    "    print(lexeme.text)"
   ]
  },
  {
   "cell_type": "markdown",
   "id": "71f7f3b6",
   "metadata": {},
   "source": [
    "1.The Vocab() object belongs to which class?\n",
    "\n",
    "The Vocab() object belongs to the spacy.vocab.Vocab class. In the code provided, Vocab() is instantiated to create a vocabulary for the Doc object.\n",
    "\n",
    "2.What is a Lexeme object?\n",
    "\n",
    "In spaCy, a Lexeme object represents a single entry in the vocabulary. It contains information about a specific word, including its text, unique hash, and attributes like part-of-speech tags, syntactic dependencies, etc."
   ]
  },
  {
   "cell_type": "code",
   "execution_count": 6,
   "id": "dcc4b99c",
   "metadata": {},
   "outputs": [],
   "source": [
    "import spacy\n",
    "nlp = spacy.load('en_core_web_sm')\n",
    "doc = nlp(u'I want to learn spaCy.')\n",
    "token_text1 = [token.text for token in doc]\n",
    "token_text2 = [doc[i].text for i in range(len(doc))]"
   ]
  },
  {
   "cell_type": "code",
   "execution_count": 7,
   "id": "15ab0129",
   "metadata": {},
   "outputs": [
    {
     "name": "stdout",
     "output_type": "stream",
     "text": [
      "['I', 'want', 'to', 'learn', 'spaCy', '.']\n"
     ]
    }
   ],
   "source": [
    "print(token_text1)"
   ]
  },
  {
   "cell_type": "code",
   "execution_count": 8,
   "id": "6536acad",
   "metadata": {},
   "outputs": [
    {
     "name": "stdout",
     "output_type": "stream",
     "text": [
      "['I', 'want', 'to', 'learn', 'spaCy', '.']\n"
     ]
    }
   ],
   "source": [
    "print(token_text2)"
   ]
  },
  {
   "cell_type": "markdown",
   "id": "6095905f",
   "metadata": {},
   "source": [
    "# 1.What is en_core_web_sm?\n",
    "\n",
    "en_core_web_sm is a small English language model provided by spaCy. It's a pre-trained statistical model that includes vocabulary, syntax, named entities, word vectors, and various other linguistic annotations. This model is designed for general-purpose use, offering a balance between size and performance.\n",
    "\n",
    "# 2.What is the size of en_core_web_sm?\n",
    "\n",
    "The en_core_web_sm model is one of the smaller models provided by spaCy. As of my last update, its size is approximately 11-12 MB when downloaded. This size may vary slightly depending on updates or modifications made by spaCy developers.\n",
    "\n",
    "# 3.What other variations can be used?\n",
    "\n",
    "SpaCy offers different variations of language models based on size and features. Some other variations apart from en_core_web_sm for English include:\n",
    "en_core_web_md: A medium-sized English model with more word vectors and larger vocabulary.\n",
    "en_core_web_lg: A large English model with even more word vectors and a larger vocabulary, providing better performance but at a larger file size.\n",
    "Additionally, there might be domain-specific or experimental models that focus on particular types of texts or tasks"
   ]
  },
  {
   "cell_type": "code",
   "execution_count": 9,
   "id": "ddd1e5b6",
   "metadata": {},
   "outputs": [
    {
     "name": "stdout",
     "output_type": "stream",
     "text": [
      "[]\n",
      "[I]\n",
      "[]\n",
      "[to]\n",
      "[]\n",
      "[]\n"
     ]
    }
   ],
   "source": [
    "doc = nlp(u'I want to learn spaCy.')\n",
    "for i in range(len(doc)):\n",
    "    print([t for t in doc[i].lefts])"
   ]
  },
  {
   "cell_type": "code",
   "execution_count": 10,
   "id": "4ea9ba6b",
   "metadata": {},
   "outputs": [
    {
     "name": "stdout",
     "output_type": "stream",
     "text": [
      "[]\n",
      "[]\n",
      "[learn, .]\n",
      "[I, learn, .]\n",
      "[]\n",
      "[]\n",
      "[spaCy]\n",
      "[to, spaCy]\n",
      "[]\n",
      "[]\n",
      "[]\n",
      "[]\n"
     ]
    }
   ],
   "source": [
    "doc = nlp(u'I want to learn spaCy.')\n",
    "for i in range(len(doc)):\n",
    "    print([t for t in doc[i].rights])\n",
    "    print([t for t in doc[i].children])"
   ]
  },
  {
   "cell_type": "code",
   "execution_count": 11,
   "id": "09bcfa9d",
   "metadata": {},
   "outputs": [],
   "source": [
    "from spacy import displacy"
   ]
  },
  {
   "cell_type": "code",
   "execution_count": 12,
   "id": "bba70ed8",
   "metadata": {},
   "outputs": [
    {
     "data": {
      "text/html": [
       "<span class=\"tex2jax_ignore\"><svg xmlns=\"http://www.w3.org/2000/svg\" xmlns:xlink=\"http://www.w3.org/1999/xlink\" xml:lang=\"en\" id=\"25a407492dea4457812db2f0bf00e0c8-0\" class=\"displacy\" width=\"925\" height=\"312.0\" direction=\"ltr\" style=\"max-width: none; height: 312.0px; color: #000000; background: #ffffff; font-family: Arial; direction: ltr\">\n",
       "<text class=\"displacy-token\" fill=\"currentColor\" text-anchor=\"middle\" y=\"222.0\">\n",
       "    <tspan class=\"displacy-word\" fill=\"currentColor\" x=\"50\">I</tspan>\n",
       "    <tspan class=\"displacy-tag\" dy=\"2em\" fill=\"currentColor\" x=\"50\">PRON</tspan>\n",
       "</text>\n",
       "\n",
       "<text class=\"displacy-token\" fill=\"currentColor\" text-anchor=\"middle\" y=\"222.0\">\n",
       "    <tspan class=\"displacy-word\" fill=\"currentColor\" x=\"225\">want</tspan>\n",
       "    <tspan class=\"displacy-tag\" dy=\"2em\" fill=\"currentColor\" x=\"225\">VERB</tspan>\n",
       "</text>\n",
       "\n",
       "<text class=\"displacy-token\" fill=\"currentColor\" text-anchor=\"middle\" y=\"222.0\">\n",
       "    <tspan class=\"displacy-word\" fill=\"currentColor\" x=\"400\">to</tspan>\n",
       "    <tspan class=\"displacy-tag\" dy=\"2em\" fill=\"currentColor\" x=\"400\">PART</tspan>\n",
       "</text>\n",
       "\n",
       "<text class=\"displacy-token\" fill=\"currentColor\" text-anchor=\"middle\" y=\"222.0\">\n",
       "    <tspan class=\"displacy-word\" fill=\"currentColor\" x=\"575\">learn</tspan>\n",
       "    <tspan class=\"displacy-tag\" dy=\"2em\" fill=\"currentColor\" x=\"575\">VERB</tspan>\n",
       "</text>\n",
       "\n",
       "<text class=\"displacy-token\" fill=\"currentColor\" text-anchor=\"middle\" y=\"222.0\">\n",
       "    <tspan class=\"displacy-word\" fill=\"currentColor\" x=\"750\">spaCy.</tspan>\n",
       "    <tspan class=\"displacy-tag\" dy=\"2em\" fill=\"currentColor\" x=\"750\">ADJ</tspan>\n",
       "</text>\n",
       "\n",
       "<g class=\"displacy-arrow\">\n",
       "    <path class=\"displacy-arc\" id=\"arrow-25a407492dea4457812db2f0bf00e0c8-0-0\" stroke-width=\"2px\" d=\"M70,177.0 C70,89.5 220.0,89.5 220.0,177.0\" fill=\"none\" stroke=\"currentColor\"/>\n",
       "    <text dy=\"1.25em\" style=\"font-size: 0.8em; letter-spacing: 1px\">\n",
       "        <textPath xlink:href=\"#arrow-25a407492dea4457812db2f0bf00e0c8-0-0\" class=\"displacy-label\" startOffset=\"50%\" side=\"left\" fill=\"currentColor\" text-anchor=\"middle\">nsubj</textPath>\n",
       "    </text>\n",
       "    <path class=\"displacy-arrowhead\" d=\"M70,179.0 L62,167.0 78,167.0\" fill=\"currentColor\"/>\n",
       "</g>\n",
       "\n",
       "<g class=\"displacy-arrow\">\n",
       "    <path class=\"displacy-arc\" id=\"arrow-25a407492dea4457812db2f0bf00e0c8-0-1\" stroke-width=\"2px\" d=\"M420,177.0 C420,89.5 570.0,89.5 570.0,177.0\" fill=\"none\" stroke=\"currentColor\"/>\n",
       "    <text dy=\"1.25em\" style=\"font-size: 0.8em; letter-spacing: 1px\">\n",
       "        <textPath xlink:href=\"#arrow-25a407492dea4457812db2f0bf00e0c8-0-1\" class=\"displacy-label\" startOffset=\"50%\" side=\"left\" fill=\"currentColor\" text-anchor=\"middle\">aux</textPath>\n",
       "    </text>\n",
       "    <path class=\"displacy-arrowhead\" d=\"M420,179.0 L412,167.0 428,167.0\" fill=\"currentColor\"/>\n",
       "</g>\n",
       "\n",
       "<g class=\"displacy-arrow\">\n",
       "    <path class=\"displacy-arc\" id=\"arrow-25a407492dea4457812db2f0bf00e0c8-0-2\" stroke-width=\"2px\" d=\"M245,177.0 C245,2.0 575.0,2.0 575.0,177.0\" fill=\"none\" stroke=\"currentColor\"/>\n",
       "    <text dy=\"1.25em\" style=\"font-size: 0.8em; letter-spacing: 1px\">\n",
       "        <textPath xlink:href=\"#arrow-25a407492dea4457812db2f0bf00e0c8-0-2\" class=\"displacy-label\" startOffset=\"50%\" side=\"left\" fill=\"currentColor\" text-anchor=\"middle\">xcomp</textPath>\n",
       "    </text>\n",
       "    <path class=\"displacy-arrowhead\" d=\"M575.0,179.0 L583.0,167.0 567.0,167.0\" fill=\"currentColor\"/>\n",
       "</g>\n",
       "\n",
       "<g class=\"displacy-arrow\">\n",
       "    <path class=\"displacy-arc\" id=\"arrow-25a407492dea4457812db2f0bf00e0c8-0-3\" stroke-width=\"2px\" d=\"M595,177.0 C595,89.5 745.0,89.5 745.0,177.0\" fill=\"none\" stroke=\"currentColor\"/>\n",
       "    <text dy=\"1.25em\" style=\"font-size: 0.8em; letter-spacing: 1px\">\n",
       "        <textPath xlink:href=\"#arrow-25a407492dea4457812db2f0bf00e0c8-0-3\" class=\"displacy-label\" startOffset=\"50%\" side=\"left\" fill=\"currentColor\" text-anchor=\"middle\">dobj</textPath>\n",
       "    </text>\n",
       "    <path class=\"displacy-arrowhead\" d=\"M745.0,179.0 L753.0,167.0 737.0,167.0\" fill=\"currentColor\"/>\n",
       "</g>\n",
       "</svg></span>"
      ],
      "text/plain": [
       "<IPython.core.display.HTML object>"
      ]
     },
     "metadata": {},
     "output_type": "display_data"
    }
   ],
   "source": [
    "displacy.render(doc, style='dep')"
   ]
  },
  {
   "cell_type": "markdown",
   "id": "7322cae3",
   "metadata": {},
   "source": [
    "# Draw the left and right dependencies for the sentence: I want to learn spaCy."
   ]
  },
  {
   "cell_type": "code",
   "execution_count": 13,
   "id": "207c77f3",
   "metadata": {},
   "outputs": [
    {
     "data": {
      "text/html": [
       "<span class=\"tex2jax_ignore\"><svg xmlns=\"http://www.w3.org/2000/svg\" xmlns:xlink=\"http://www.w3.org/1999/xlink\" xml:lang=\"en\" id=\"71345e66f8fa461a82ec38091382f7c9-0\" class=\"displacy\" width=\"650\" height=\"257.0\" direction=\"ltr\" style=\"max-width: none; height: 257.0px; color: #000000; background: #ffffff; font-family: Arial; direction: ltr\">\n",
       "<text class=\"displacy-token\" fill=\"currentColor\" text-anchor=\"middle\" y=\"167.0\">\n",
       "    <tspan class=\"displacy-word\" fill=\"currentColor\" x=\"50\">I</tspan>\n",
       "    <tspan class=\"displacy-tag\" dy=\"2em\" fill=\"currentColor\" x=\"50\">PRON</tspan>\n",
       "</text>\n",
       "\n",
       "<text class=\"displacy-token\" fill=\"currentColor\" text-anchor=\"middle\" y=\"167.0\">\n",
       "    <tspan class=\"displacy-word\" fill=\"currentColor\" x=\"170\">want</tspan>\n",
       "    <tspan class=\"displacy-tag\" dy=\"2em\" fill=\"currentColor\" x=\"170\">VERB</tspan>\n",
       "</text>\n",
       "\n",
       "<text class=\"displacy-token\" fill=\"currentColor\" text-anchor=\"middle\" y=\"167.0\">\n",
       "    <tspan class=\"displacy-word\" fill=\"currentColor\" x=\"290\">to</tspan>\n",
       "    <tspan class=\"displacy-tag\" dy=\"2em\" fill=\"currentColor\" x=\"290\">PART</tspan>\n",
       "</text>\n",
       "\n",
       "<text class=\"displacy-token\" fill=\"currentColor\" text-anchor=\"middle\" y=\"167.0\">\n",
       "    <tspan class=\"displacy-word\" fill=\"currentColor\" x=\"410\">learn</tspan>\n",
       "    <tspan class=\"displacy-tag\" dy=\"2em\" fill=\"currentColor\" x=\"410\">VERB</tspan>\n",
       "</text>\n",
       "\n",
       "<text class=\"displacy-token\" fill=\"currentColor\" text-anchor=\"middle\" y=\"167.0\">\n",
       "    <tspan class=\"displacy-word\" fill=\"currentColor\" x=\"530\">spaCy.</tspan>\n",
       "    <tspan class=\"displacy-tag\" dy=\"2em\" fill=\"currentColor\" x=\"530\">ADJ</tspan>\n",
       "</text>\n",
       "\n",
       "<g class=\"displacy-arrow\">\n",
       "    <path class=\"displacy-arc\" id=\"arrow-71345e66f8fa461a82ec38091382f7c9-0-0\" stroke-width=\"2px\" d=\"M62,122.0 62,102.0 167.0,102.0 167.0,122.0\" fill=\"none\" stroke=\"currentColor\"/>\n",
       "    <text dy=\"1.25em\" style=\"font-size: 0.8em; letter-spacing: 1px\">\n",
       "        <textPath xlink:href=\"#arrow-71345e66f8fa461a82ec38091382f7c9-0-0\" class=\"displacy-label\" startOffset=\"50%\" side=\"left\" fill=\"currentColor\" text-anchor=\"middle\">nsubj</textPath>\n",
       "    </text>\n",
       "    <path class=\"displacy-arrowhead\" d=\"M62,124.0 L58,116.0 66,116.0\" fill=\"currentColor\"/>\n",
       "</g>\n",
       "\n",
       "<g class=\"displacy-arrow\">\n",
       "    <path class=\"displacy-arc\" id=\"arrow-71345e66f8fa461a82ec38091382f7c9-0-1\" stroke-width=\"2px\" d=\"M302,122.0 302,102.0 407.0,102.0 407.0,122.0\" fill=\"none\" stroke=\"currentColor\"/>\n",
       "    <text dy=\"1.25em\" style=\"font-size: 0.8em; letter-spacing: 1px\">\n",
       "        <textPath xlink:href=\"#arrow-71345e66f8fa461a82ec38091382f7c9-0-1\" class=\"displacy-label\" startOffset=\"50%\" side=\"left\" fill=\"currentColor\" text-anchor=\"middle\">aux</textPath>\n",
       "    </text>\n",
       "    <path class=\"displacy-arrowhead\" d=\"M302,124.0 L298,116.0 306,116.0\" fill=\"currentColor\"/>\n",
       "</g>\n",
       "\n",
       "<g class=\"displacy-arrow\">\n",
       "    <path class=\"displacy-arc\" id=\"arrow-71345e66f8fa461a82ec38091382f7c9-0-2\" stroke-width=\"2px\" d=\"M182,122.0 182,82.0 410.0,82.0 410.0,122.0\" fill=\"none\" stroke=\"currentColor\"/>\n",
       "    <text dy=\"1.25em\" style=\"font-size: 0.8em; letter-spacing: 1px\">\n",
       "        <textPath xlink:href=\"#arrow-71345e66f8fa461a82ec38091382f7c9-0-2\" class=\"displacy-label\" startOffset=\"50%\" side=\"left\" fill=\"currentColor\" text-anchor=\"middle\">xcomp</textPath>\n",
       "    </text>\n",
       "    <path class=\"displacy-arrowhead\" d=\"M410.0,124.0 L414.0,116.0 406.0,116.0\" fill=\"currentColor\"/>\n",
       "</g>\n",
       "\n",
       "<g class=\"displacy-arrow\">\n",
       "    <path class=\"displacy-arc\" id=\"arrow-71345e66f8fa461a82ec38091382f7c9-0-3\" stroke-width=\"2px\" d=\"M422,122.0 422,102.0 527.0,102.0 527.0,122.0\" fill=\"none\" stroke=\"currentColor\"/>\n",
       "    <text dy=\"1.25em\" style=\"font-size: 0.8em; letter-spacing: 1px\">\n",
       "        <textPath xlink:href=\"#arrow-71345e66f8fa461a82ec38091382f7c9-0-3\" class=\"displacy-label\" startOffset=\"50%\" side=\"left\" fill=\"currentColor\" text-anchor=\"middle\">dobj</textPath>\n",
       "    </text>\n",
       "    <path class=\"displacy-arrowhead\" d=\"M527.0,124.0 L531.0,116.0 523.0,116.0\" fill=\"currentColor\"/>\n",
       "</g>\n",
       "</svg></span>"
      ],
      "text/plain": [
       "<IPython.core.display.HTML object>"
      ]
     },
     "metadata": {},
     "output_type": "display_data"
    }
   ],
   "source": [
    "import spacy\n",
    "from spacy import displacy\n",
    "\n",
    "# Load the English model in spaCy\n",
    "nlp = spacy.load('en_core_web_sm')\n",
    "\n",
    "# Sentence\n",
    "sentence = \"I want to learn spaCy.\"\n",
    "\n",
    "# Process the sentence\n",
    "doc = nlp(sentence)\n",
    "\n",
    "# Visualize left and right dependencies\n",
    "displacy.render(doc, style='dep', options={'compact': True, 'distance': 120}, jupyter=True)\n"
   ]
  },
  {
   "cell_type": "markdown",
   "id": "9a35f7ae",
   "metadata": {},
   "source": [
    "# Draw the children for the sentence: I want to learn spaCy."
   ]
  },
  {
   "cell_type": "code",
   "execution_count": 14,
   "id": "293f49aa",
   "metadata": {},
   "outputs": [
    {
     "name": "stdout",
     "output_type": "stream",
     "text": [
      "Token: I | Children: []\n",
      "Token: want | Children: ['I', 'learn', '.']\n",
      "Token: to | Children: []\n",
      "Token: learn | Children: ['to', 'spaCy']\n",
      "Token: spaCy | Children: []\n",
      "Token: . | Children: []\n"
     ]
    }
   ],
   "source": [
    "sentence = \"I want to learn spaCy.\"\n",
    "# Process the sentence\n",
    "doc = nlp(sentence)\n",
    "\n",
    "# Retrieve children for each token in the sentence\n",
    "for token in doc:\n",
    "    children = [child.text for child in token.children]\n",
    "    print(f\"Token: {token.text} | Children: {children}\")"
   ]
  },
  {
   "cell_type": "markdown",
   "id": "dea203b7",
   "metadata": {},
   "source": [
    "# Draw the left and right dependencies for the sentence: I would very much want to eat a hot dinner."
   ]
  },
  {
   "cell_type": "code",
   "execution_count": 15,
   "id": "5e2dc33a",
   "metadata": {},
   "outputs": [
    {
     "data": {
      "text/html": [
       "<span class=\"tex2jax_ignore\"><svg xmlns=\"http://www.w3.org/2000/svg\" xmlns:xlink=\"http://www.w3.org/1999/xlink\" xml:lang=\"en\" id=\"ecf97283e3354b2ea644d79174ad2f87-0\" class=\"displacy\" width=\"1250\" height=\"317.0\" direction=\"ltr\" style=\"max-width: none; height: 317.0px; color: #000000; background: #ffffff; font-family: Arial; direction: ltr\">\n",
       "<text class=\"displacy-token\" fill=\"currentColor\" text-anchor=\"middle\" y=\"227.0\">\n",
       "    <tspan class=\"displacy-word\" fill=\"currentColor\" x=\"50\">I</tspan>\n",
       "    <tspan class=\"displacy-tag\" dy=\"2em\" fill=\"currentColor\" x=\"50\">PRON</tspan>\n",
       "</text>\n",
       "\n",
       "<text class=\"displacy-token\" fill=\"currentColor\" text-anchor=\"middle\" y=\"227.0\">\n",
       "    <tspan class=\"displacy-word\" fill=\"currentColor\" x=\"170\">would</tspan>\n",
       "    <tspan class=\"displacy-tag\" dy=\"2em\" fill=\"currentColor\" x=\"170\">AUX</tspan>\n",
       "</text>\n",
       "\n",
       "<text class=\"displacy-token\" fill=\"currentColor\" text-anchor=\"middle\" y=\"227.0\">\n",
       "    <tspan class=\"displacy-word\" fill=\"currentColor\" x=\"290\">very</tspan>\n",
       "    <tspan class=\"displacy-tag\" dy=\"2em\" fill=\"currentColor\" x=\"290\">ADV</tspan>\n",
       "</text>\n",
       "\n",
       "<text class=\"displacy-token\" fill=\"currentColor\" text-anchor=\"middle\" y=\"227.0\">\n",
       "    <tspan class=\"displacy-word\" fill=\"currentColor\" x=\"410\">much</tspan>\n",
       "    <tspan class=\"displacy-tag\" dy=\"2em\" fill=\"currentColor\" x=\"410\">ADV</tspan>\n",
       "</text>\n",
       "\n",
       "<text class=\"displacy-token\" fill=\"currentColor\" text-anchor=\"middle\" y=\"227.0\">\n",
       "    <tspan class=\"displacy-word\" fill=\"currentColor\" x=\"530\">want</tspan>\n",
       "    <tspan class=\"displacy-tag\" dy=\"2em\" fill=\"currentColor\" x=\"530\">VERB</tspan>\n",
       "</text>\n",
       "\n",
       "<text class=\"displacy-token\" fill=\"currentColor\" text-anchor=\"middle\" y=\"227.0\">\n",
       "    <tspan class=\"displacy-word\" fill=\"currentColor\" x=\"650\">to</tspan>\n",
       "    <tspan class=\"displacy-tag\" dy=\"2em\" fill=\"currentColor\" x=\"650\">PART</tspan>\n",
       "</text>\n",
       "\n",
       "<text class=\"displacy-token\" fill=\"currentColor\" text-anchor=\"middle\" y=\"227.0\">\n",
       "    <tspan class=\"displacy-word\" fill=\"currentColor\" x=\"770\">eat</tspan>\n",
       "    <tspan class=\"displacy-tag\" dy=\"2em\" fill=\"currentColor\" x=\"770\">VERB</tspan>\n",
       "</text>\n",
       "\n",
       "<text class=\"displacy-token\" fill=\"currentColor\" text-anchor=\"middle\" y=\"227.0\">\n",
       "    <tspan class=\"displacy-word\" fill=\"currentColor\" x=\"890\">a</tspan>\n",
       "    <tspan class=\"displacy-tag\" dy=\"2em\" fill=\"currentColor\" x=\"890\">DET</tspan>\n",
       "</text>\n",
       "\n",
       "<text class=\"displacy-token\" fill=\"currentColor\" text-anchor=\"middle\" y=\"227.0\">\n",
       "    <tspan class=\"displacy-word\" fill=\"currentColor\" x=\"1010\">hot</tspan>\n",
       "    <tspan class=\"displacy-tag\" dy=\"2em\" fill=\"currentColor\" x=\"1010\">ADJ</tspan>\n",
       "</text>\n",
       "\n",
       "<text class=\"displacy-token\" fill=\"currentColor\" text-anchor=\"middle\" y=\"227.0\">\n",
       "    <tspan class=\"displacy-word\" fill=\"currentColor\" x=\"1130\">dinner.</tspan>\n",
       "    <tspan class=\"displacy-tag\" dy=\"2em\" fill=\"currentColor\" x=\"1130\">NOUN</tspan>\n",
       "</text>\n",
       "\n",
       "<g class=\"displacy-arrow\">\n",
       "    <path class=\"displacy-arc\" id=\"arrow-ecf97283e3354b2ea644d79174ad2f87-0-0\" stroke-width=\"2px\" d=\"M62,182.0 62,122.0 530.0,122.0 530.0,182.0\" fill=\"none\" stroke=\"currentColor\"/>\n",
       "    <text dy=\"1.25em\" style=\"font-size: 0.8em; letter-spacing: 1px\">\n",
       "        <textPath xlink:href=\"#arrow-ecf97283e3354b2ea644d79174ad2f87-0-0\" class=\"displacy-label\" startOffset=\"50%\" side=\"left\" fill=\"currentColor\" text-anchor=\"middle\">nsubj</textPath>\n",
       "    </text>\n",
       "    <path class=\"displacy-arrowhead\" d=\"M62,184.0 L58,176.0 66,176.0\" fill=\"currentColor\"/>\n",
       "</g>\n",
       "\n",
       "<g class=\"displacy-arrow\">\n",
       "    <path class=\"displacy-arc\" id=\"arrow-ecf97283e3354b2ea644d79174ad2f87-0-1\" stroke-width=\"2px\" d=\"M182,182.0 182,142.0 527.0,142.0 527.0,182.0\" fill=\"none\" stroke=\"currentColor\"/>\n",
       "    <text dy=\"1.25em\" style=\"font-size: 0.8em; letter-spacing: 1px\">\n",
       "        <textPath xlink:href=\"#arrow-ecf97283e3354b2ea644d79174ad2f87-0-1\" class=\"displacy-label\" startOffset=\"50%\" side=\"left\" fill=\"currentColor\" text-anchor=\"middle\">aux</textPath>\n",
       "    </text>\n",
       "    <path class=\"displacy-arrowhead\" d=\"M182,184.0 L178,176.0 186,176.0\" fill=\"currentColor\"/>\n",
       "</g>\n",
       "\n",
       "<g class=\"displacy-arrow\">\n",
       "    <path class=\"displacy-arc\" id=\"arrow-ecf97283e3354b2ea644d79174ad2f87-0-2\" stroke-width=\"2px\" d=\"M302,182.0 302,162.0 404.0,162.0 404.0,182.0\" fill=\"none\" stroke=\"currentColor\"/>\n",
       "    <text dy=\"1.25em\" style=\"font-size: 0.8em; letter-spacing: 1px\">\n",
       "        <textPath xlink:href=\"#arrow-ecf97283e3354b2ea644d79174ad2f87-0-2\" class=\"displacy-label\" startOffset=\"50%\" side=\"left\" fill=\"currentColor\" text-anchor=\"middle\">advmod</textPath>\n",
       "    </text>\n",
       "    <path class=\"displacy-arrowhead\" d=\"M302,184.0 L298,176.0 306,176.0\" fill=\"currentColor\"/>\n",
       "</g>\n",
       "\n",
       "<g class=\"displacy-arrow\">\n",
       "    <path class=\"displacy-arc\" id=\"arrow-ecf97283e3354b2ea644d79174ad2f87-0-3\" stroke-width=\"2px\" d=\"M422,182.0 422,162.0 524.0,162.0 524.0,182.0\" fill=\"none\" stroke=\"currentColor\"/>\n",
       "    <text dy=\"1.25em\" style=\"font-size: 0.8em; letter-spacing: 1px\">\n",
       "        <textPath xlink:href=\"#arrow-ecf97283e3354b2ea644d79174ad2f87-0-3\" class=\"displacy-label\" startOffset=\"50%\" side=\"left\" fill=\"currentColor\" text-anchor=\"middle\">advmod</textPath>\n",
       "    </text>\n",
       "    <path class=\"displacy-arrowhead\" d=\"M422,184.0 L418,176.0 426,176.0\" fill=\"currentColor\"/>\n",
       "</g>\n",
       "\n",
       "<g class=\"displacy-arrow\">\n",
       "    <path class=\"displacy-arc\" id=\"arrow-ecf97283e3354b2ea644d79174ad2f87-0-4\" stroke-width=\"2px\" d=\"M662,182.0 662,162.0 764.0,162.0 764.0,182.0\" fill=\"none\" stroke=\"currentColor\"/>\n",
       "    <text dy=\"1.25em\" style=\"font-size: 0.8em; letter-spacing: 1px\">\n",
       "        <textPath xlink:href=\"#arrow-ecf97283e3354b2ea644d79174ad2f87-0-4\" class=\"displacy-label\" startOffset=\"50%\" side=\"left\" fill=\"currentColor\" text-anchor=\"middle\">aux</textPath>\n",
       "    </text>\n",
       "    <path class=\"displacy-arrowhead\" d=\"M662,184.0 L658,176.0 666,176.0\" fill=\"currentColor\"/>\n",
       "</g>\n",
       "\n",
       "<g class=\"displacy-arrow\">\n",
       "    <path class=\"displacy-arc\" id=\"arrow-ecf97283e3354b2ea644d79174ad2f87-0-5\" stroke-width=\"2px\" d=\"M542,182.0 542,142.0 767.0,142.0 767.0,182.0\" fill=\"none\" stroke=\"currentColor\"/>\n",
       "    <text dy=\"1.25em\" style=\"font-size: 0.8em; letter-spacing: 1px\">\n",
       "        <textPath xlink:href=\"#arrow-ecf97283e3354b2ea644d79174ad2f87-0-5\" class=\"displacy-label\" startOffset=\"50%\" side=\"left\" fill=\"currentColor\" text-anchor=\"middle\">xcomp</textPath>\n",
       "    </text>\n",
       "    <path class=\"displacy-arrowhead\" d=\"M767.0,184.0 L771.0,176.0 763.0,176.0\" fill=\"currentColor\"/>\n",
       "</g>\n",
       "\n",
       "<g class=\"displacy-arrow\">\n",
       "    <path class=\"displacy-arc\" id=\"arrow-ecf97283e3354b2ea644d79174ad2f87-0-6\" stroke-width=\"2px\" d=\"M902,182.0 902,142.0 1127.0,142.0 1127.0,182.0\" fill=\"none\" stroke=\"currentColor\"/>\n",
       "    <text dy=\"1.25em\" style=\"font-size: 0.8em; letter-spacing: 1px\">\n",
       "        <textPath xlink:href=\"#arrow-ecf97283e3354b2ea644d79174ad2f87-0-6\" class=\"displacy-label\" startOffset=\"50%\" side=\"left\" fill=\"currentColor\" text-anchor=\"middle\">det</textPath>\n",
       "    </text>\n",
       "    <path class=\"displacy-arrowhead\" d=\"M902,184.0 L898,176.0 906,176.0\" fill=\"currentColor\"/>\n",
       "</g>\n",
       "\n",
       "<g class=\"displacy-arrow\">\n",
       "    <path class=\"displacy-arc\" id=\"arrow-ecf97283e3354b2ea644d79174ad2f87-0-7\" stroke-width=\"2px\" d=\"M1022,182.0 1022,162.0 1124.0,162.0 1124.0,182.0\" fill=\"none\" stroke=\"currentColor\"/>\n",
       "    <text dy=\"1.25em\" style=\"font-size: 0.8em; letter-spacing: 1px\">\n",
       "        <textPath xlink:href=\"#arrow-ecf97283e3354b2ea644d79174ad2f87-0-7\" class=\"displacy-label\" startOffset=\"50%\" side=\"left\" fill=\"currentColor\" text-anchor=\"middle\">amod</textPath>\n",
       "    </text>\n",
       "    <path class=\"displacy-arrowhead\" d=\"M1022,184.0 L1018,176.0 1026,176.0\" fill=\"currentColor\"/>\n",
       "</g>\n",
       "\n",
       "<g class=\"displacy-arrow\">\n",
       "    <path class=\"displacy-arc\" id=\"arrow-ecf97283e3354b2ea644d79174ad2f87-0-8\" stroke-width=\"2px\" d=\"M782,182.0 782,122.0 1130.0,122.0 1130.0,182.0\" fill=\"none\" stroke=\"currentColor\"/>\n",
       "    <text dy=\"1.25em\" style=\"font-size: 0.8em; letter-spacing: 1px\">\n",
       "        <textPath xlink:href=\"#arrow-ecf97283e3354b2ea644d79174ad2f87-0-8\" class=\"displacy-label\" startOffset=\"50%\" side=\"left\" fill=\"currentColor\" text-anchor=\"middle\">dobj</textPath>\n",
       "    </text>\n",
       "    <path class=\"displacy-arrowhead\" d=\"M1130.0,184.0 L1134.0,176.0 1126.0,176.0\" fill=\"currentColor\"/>\n",
       "</g>\n",
       "</svg></span>"
      ],
      "text/plain": [
       "<IPython.core.display.HTML object>"
      ]
     },
     "metadata": {},
     "output_type": "display_data"
    }
   ],
   "source": [
    "\n",
    "nlp = spacy.load('en_core_web_sm')\n",
    "\n",
    "# Sentence\n",
    "sentence = \"I would very much want to eat a hot dinner.\"\n",
    "\n",
    "# Process the sentence\n",
    "doc = nlp(sentence)\n",
    "\n",
    "# Visualize left and right dependencies\n",
    "displacy.render(doc, style='dep', options={'compact': True, 'distance': 120}, jupyter=True)\n",
    "\n",
    "\n"
   ]
  },
  {
   "cell_type": "markdown",
   "id": "a55b35fe",
   "metadata": {},
   "source": [
    "# Present a list of all dependency grammars of your sentences above."
   ]
  },
  {
   "cell_type": "code",
   "execution_count": 16,
   "id": "06d8a47f",
   "metadata": {},
   "outputs": [
    {
     "name": "stdout",
     "output_type": "stream",
     "text": [
      "Dependency Grammars: ['nsubj', 'aux', 'advmod', 'advmod', 'ROOT', 'aux', 'xcomp', 'det', 'amod', 'dobj', 'punct']\n"
     ]
    }
   ],
   "source": [
    "dependency_grammars = [token.dep_ for token in doc]\n",
    "print(f\"Dependency Grammars: {dependency_grammars}\")"
   ]
  },
  {
   "cell_type": "markdown",
   "id": "293f50d3",
   "metadata": {},
   "source": [
    "# Task 3: NLTK vs spaCy Pipelines"
   ]
  },
  {
   "cell_type": "code",
   "execution_count": 23,
   "id": "6573b22d",
   "metadata": {},
   "outputs": [
    {
     "name": "stderr",
     "output_type": "stream",
     "text": [
      "[nltk_data] Downloading package punkt to\n",
      "[nltk_data]     C:\\Users\\UMAIR\\AppData\\Roaming\\nltk_data...\n",
      "[nltk_data]   Package punkt is already up-to-date!\n",
      "[nltk_data] Downloading package averaged_perceptron_tagger to\n",
      "[nltk_data]     C:\\Users\\UMAIR\\AppData\\Roaming\\nltk_data...\n",
      "[nltk_data]   Package averaged_perceptron_tagger is already up-to-\n",
      "[nltk_data]       date!\n",
      "[nltk_data] Downloading package maxent_ne_chunker to\n",
      "[nltk_data]     C:\\Users\\UMAIR\\AppData\\Roaming\\nltk_data...\n",
      "[nltk_data]   Package maxent_ne_chunker is already up-to-date!\n",
      "[nltk_data] Downloading package words to\n",
      "[nltk_data]     C:\\Users\\UMAIR\\AppData\\Roaming\\nltk_data...\n",
      "[nltk_data]   Package words is already up-to-date!\n"
     ]
    },
    {
     "data": {
      "text/plain": [
       "True"
      ]
     },
     "execution_count": 23,
     "metadata": {},
     "output_type": "execute_result"
    }
   ],
   "source": [
    "nltk.download('punkt') # Sentence Tokenize\n",
    "nltk.download('averaged_perceptron_tagger') # POS Tagging\n",
    "nltk.download('maxent_ne_chunker') # Named Entity Chunking\n",
    "nltk.download('words') # Word Tokenize"
   ]
  },
  {
   "cell_type": "code",
   "execution_count": 24,
   "id": "78c68cf3",
   "metadata": {},
   "outputs": [],
   "source": [
    "texts = [u\"We are nearing the end of the semester at Peshawar. Final exams of the Fall 2023 semester will start soon.\"]"
   ]
  },
  {
   "cell_type": "code",
   "execution_count": 25,
   "id": "698d8ee1",
   "metadata": {},
   "outputs": [
    {
     "name": "stdout",
     "output_type": "stream",
     "text": [
      "['We are nearing the end of the semester at Peshawar.', 'Final exams of the Fall 2023 semester will start soon.']\n"
     ]
    },
    {
     "name": "stderr",
     "output_type": "stream",
     "text": [
      "[nltk_data] Downloading package punkt to\n",
      "[nltk_data]     C:\\Users\\UMAIR\\AppData\\Roaming\\nltk_data...\n",
      "[nltk_data]   Package punkt is already up-to-date!\n"
     ]
    }
   ],
   "source": [
    "import nltk\n",
    "nltk.download('punkt')\n",
    "for text in texts:\n",
    "    sentences = nltk.sent_tokenize(text)\n",
    "    print(sentences)"
   ]
  },
  {
   "cell_type": "code",
   "execution_count": 26,
   "id": "27783362",
   "metadata": {},
   "outputs": [
    {
     "name": "stdout",
     "output_type": "stream",
     "text": [
      "['We', 'are', 'nearing', 'the', 'end', 'of', 'the', 'semester', 'at', 'Peshawar', '.']\n",
      "['Final', 'exams', 'of', 'the', 'Fall', '2023', 'semester', 'will', 'start', 'soon', '.']\n"
     ]
    }
   ],
   "source": [
    "for sentence in sentences:\n",
    "    words = nltk.word_tokenize(sentence)\n",
    "    print(words)"
   ]
  },
  {
   "cell_type": "code",
   "execution_count": 27,
   "id": "b47c89fd",
   "metadata": {},
   "outputs": [
    {
     "name": "stdout",
     "output_type": "stream",
     "text": [
      "[('Final', 'JJ'), ('exams', 'NN'), ('of', 'IN'), ('the', 'DT'), ('Fall', 'NN'), ('2023', 'CD'), ('semester', 'NN'), ('will', 'MD'), ('start', 'VB'), ('soon', 'RB'), ('.', '.')]\n"
     ]
    }
   ],
   "source": [
    "tagged_words = nltk.pos_tag(words)\n",
    "print(tagged_words)"
   ]
  },
  {
   "cell_type": "code",
   "execution_count": 28,
   "id": "3257bd24",
   "metadata": {},
   "outputs": [
    {
     "name": "stdout",
     "output_type": "stream",
     "text": [
      "(S\n",
      "  Final/JJ\n",
      "  exams/NN\n",
      "  of/IN\n",
      "  the/DT\n",
      "  Fall/NN\n",
      "  2023/CD\n",
      "  semester/NN\n",
      "  will/MD\n",
      "  start/VB\n",
      "  soon/RB\n",
      "  ./.)\n"
     ]
    }
   ],
   "source": [
    "ne_tagged_words = nltk.ne_chunk(tagged_words)\n",
    "print(ne_tagged_words)"
   ]
  },
  {
   "cell_type": "code",
   "execution_count": 30,
   "id": "42cff434",
   "metadata": {},
   "outputs": [
    {
     "data": {
      "text/html": [
       "<span class=\"tex2jax_ignore\"><div class=\"entities\" style=\"line-height: 2.5; direction: ltr\">We are nearing \n",
       "<mark class=\"entity\" style=\"background: #bfe1d9; padding: 0.45em 0.6em; margin: 0 0.25em; line-height: 1; border-radius: 0.35em;\">\n",
       "    the end of the semester\n",
       "    <span style=\"font-size: 0.8em; font-weight: bold; line-height: 1; border-radius: 0.35em; vertical-align: middle; margin-left: 0.5rem\">DATE</span>\n",
       "</mark>\n",
       " at \n",
       "<mark class=\"entity\" style=\"background: #feca74; padding: 0.45em 0.6em; margin: 0 0.25em; line-height: 1; border-radius: 0.35em;\">\n",
       "    Peshawar\n",
       "    <span style=\"font-size: 0.8em; font-weight: bold; line-height: 1; border-radius: 0.35em; vertical-align: middle; margin-left: 0.5rem\">GPE</span>\n",
       "</mark>\n",
       ". Final exams of the Fall 2023 semester will start soon.</div></span>"
      ],
      "text/plain": [
       "<IPython.core.display.HTML object>"
      ]
     },
     "metadata": {},
     "output_type": "display_data"
    }
   ],
   "source": [
    "from spacy import displacy\n",
    "doc = nlp(u'We are nearing the end of the semester at Peshawar. Final exams of the Fall 2023 semester will start soon.')\n",
    "displacy.render(doc, style='ent')"
   ]
  },
  {
   "cell_type": "code",
   "execution_count": 31,
   "id": "7d9e302d",
   "metadata": {},
   "outputs": [
    {
     "name": "stdout",
     "output_type": "stream",
     "text": [
      "the end of the semester DATE\n",
      "Peshawar GPE\n"
     ]
    }
   ],
   "source": [
    "for ent in doc.ents:\n",
    "    print(ent.text, ent.label_)"
   ]
  },
  {
   "cell_type": "code",
   "execution_count": null,
   "id": "12698799",
   "metadata": {},
   "outputs": [],
   "source": []
  },
  {
   "cell_type": "markdown",
   "id": "12751cea",
   "metadata": {},
   "source": [
    "# Attempt the following questions:\n",
    "1. How did the Named Entity Output of the NLTK pipeline look like? Present its output."
   ]
  },
  {
   "cell_type": "markdown",
   "id": "4045ce3e",
   "metadata": {},
   "source": [
    "Certainly! The Named Entity Recognition (NER) output from NLTK typically appears as a nested tree structure indicating recognized entities and their types. In the output, entities like organizations, locations, dates, etc., are tagged within a nested format, showing their positions in the text along with their respective types."
   ]
  },
  {
   "cell_type": "code",
   "execution_count": 33,
   "id": "f71e66b3",
   "metadata": {},
   "outputs": [
    {
     "name": "stdout",
     "output_type": "stream",
     "text": [
      "(S\n",
      "  We/PRP\n",
      "  are/VBP\n",
      "  nearing/VBG\n",
      "  the/DT\n",
      "  end/NN\n",
      "  of/IN\n",
      "  the/DT\n",
      "  semester/NN\n",
      "  at/IN\n",
      "  (ORGANIZATION Peshawar/NNP)\n",
      "  ./.\n",
      "  Final/JJ\n",
      "  exams/NN\n",
      "  of/IN\n",
      "  the/DT\n",
      "  Fall/NN\n",
      "  2023/CD\n",
      "  semester/NN\n",
      "  will/MD\n",
      "  start/VB\n",
      "  soon/RB\n",
      "  ./.)\n"
     ]
    }
   ],
   "source": [
    "text = \"We are nearing the end of the semester at Peshawar. Final exams of the Fall 2023 semester will start soon.\"\n",
    "# Tokenize sentences\n",
    "sentences = nltk.sent_tokenize(text)\n",
    "# Tokenize words and perform POS tagging\n",
    "tagged_words = []\n",
    "for sentence in sentences:\n",
    "    words = nltk.word_tokenize(sentence)\n",
    "    tagged_words.extend(nltk.pos_tag(words))\n",
    "\n",
    "# Perform Named Entity Recognition\n",
    "ne_tagged_words = nltk.ne_chunk(tagged_words)\n",
    "\n",
    "print(ne_tagged_words)\n"
   ]
  },
  {
   "cell_type": "markdown",
   "id": "fcbeb58e",
   "metadata": {},
   "source": [
    "2. How did the Named Entity Output of the spaCy pipeline look like? Present its output."
   ]
  },
  {
   "cell_type": "markdown",
   "id": "b673a034",
   "metadata": {},
   "source": [
    "The Named Entity Recognition (NER) output of spaCy appears as identified entities with their respective labels directly tagged in the text. Each recognized entity is displayed along with its label (e.g., PERSON, ORG, DATE) in a clear, human-readable format, making it easy to understand and utilize for downstream tasks."
   ]
  },
  {
   "cell_type": "code",
   "execution_count": 34,
   "id": "d65e4b8f",
   "metadata": {},
   "outputs": [
    {
     "data": {
      "text/html": [
       "<span class=\"tex2jax_ignore\"><div class=\"entities\" style=\"line-height: 2.5; direction: ltr\">We are nearing \n",
       "<mark class=\"entity\" style=\"background: #bfe1d9; padding: 0.45em 0.6em; margin: 0 0.25em; line-height: 1; border-radius: 0.35em;\">\n",
       "    the end of the semester\n",
       "    <span style=\"font-size: 0.8em; font-weight: bold; line-height: 1; border-radius: 0.35em; vertical-align: middle; margin-left: 0.5rem\">DATE</span>\n",
       "</mark>\n",
       " at \n",
       "<mark class=\"entity\" style=\"background: #feca74; padding: 0.45em 0.6em; margin: 0 0.25em; line-height: 1; border-radius: 0.35em;\">\n",
       "    Peshawar\n",
       "    <span style=\"font-size: 0.8em; font-weight: bold; line-height: 1; border-radius: 0.35em; vertical-align: middle; margin-left: 0.5rem\">GPE</span>\n",
       "</mark>\n",
       ". Final exams of the Fall 2023 semester will start soon.</div></span>"
      ],
      "text/plain": [
       "<IPython.core.display.HTML object>"
      ]
     },
     "metadata": {},
     "output_type": "display_data"
    },
    {
     "name": "stdout",
     "output_type": "stream",
     "text": [
      "the end of the semester DATE\n",
      "Peshawar GPE\n"
     ]
    }
   ],
   "source": [
    "import spacy\n",
    "from spacy import displacy\n",
    "\n",
    "# Load the English language model\n",
    "nlp = spacy.load(\"en_core_web_sm\")\n",
    "\n",
    "text = \"We are nearing the end of the semester at Peshawar. Final exams of the Fall 2023 semester will start soon.\"\n",
    "doc = nlp(text)\n",
    "\n",
    "# Display the Named Entities using displacy\n",
    "displacy.render(doc, style='ent')\n",
    "\n",
    "# Extract and print the entities and their labels\n",
    "for ent in doc.ents:\n",
    "    print(ent.text, ent.label_)\n"
   ]
  },
  {
   "cell_type": "code",
   "execution_count": null,
   "id": "289ac3c1",
   "metadata": {},
   "outputs": [],
   "source": []
  },
  {
   "cell_type": "code",
   "execution_count": 35,
   "id": "38e09cb7",
   "metadata": {},
   "outputs": [
    {
     "data": {
      "text/plain": [
       "['tok2vec', 'tagger', 'parser', 'attribute_ruler', 'lemmatizer', 'ner']"
      ]
     },
     "execution_count": 35,
     "metadata": {},
     "output_type": "execute_result"
    }
   ],
   "source": [
    "import spacy\n",
    "nlp = spacy.load('en_core_web_sm')\n",
    "nlp.pipe_names"
   ]
  },
  {
   "cell_type": "markdown",
   "id": "48c7fb06",
   "metadata": {},
   "source": [
    "# Attempt the following questions:\n",
    "1. What is the default pipeline structure of spaCy?"
   ]
  },
  {
   "cell_type": "markdown",
   "id": "dc77c97b",
   "metadata": {},
   "source": [
    "The default pipeline structure of spaCy can be seen as a set of steps a language expert follows to understand a text. It starts by breaking the text into smaller parts (tokens), figures out what each word means (part-of-speech tagging), understands how words relate to each other (dependency parsing), identifies important named things like people or places (named entity recognition), and sometimes assigns categories to whole pieces of text (text categorization)."
   ]
  },
  {
   "cell_type": "code",
   "execution_count": 36,
   "id": "3ebe4997",
   "metadata": {},
   "outputs": [],
   "source": [
    "nlp = spacy.load('en_core_web_sm',disable=['parser'])"
   ]
  },
  {
   "cell_type": "code",
   "execution_count": 39,
   "id": "f3c12f8c",
   "metadata": {},
   "outputs": [],
   "source": [
    "from spacy.language import Language\n",
    "\n",
    "@Language.component(\"my_component\")\n",
    "def my_component(doc):\n",
    "    # Do something to the doc here\n",
    "    return doc\n"
   ]
  },
  {
   "cell_type": "code",
   "execution_count": 40,
   "id": "1383541a",
   "metadata": {},
   "outputs": [
    {
     "data": {
      "text/plain": [
       "<function __main__.my_component(doc)>"
      ]
     },
     "execution_count": 40,
     "metadata": {},
     "output_type": "execute_result"
    }
   ],
   "source": [
    "nlp.add_pipe(\"my_component\")"
   ]
  },
  {
   "cell_type": "code",
   "execution_count": null,
   "id": "7aff0863",
   "metadata": {},
   "outputs": [],
   "source": []
  },
  {
   "cell_type": "markdown",
   "id": "14442992",
   "metadata": {},
   "source": [
    "# Task 4: Finding Patterns in Sentences"
   ]
  },
  {
   "cell_type": "code",
   "execution_count": 42,
   "id": "8786215c",
   "metadata": {},
   "outputs": [
    {
     "name": "stderr",
     "output_type": "stream",
     "text": [
      "C:\\Users\\UMAIR\\anaconda3\\chatbot\\.env\\lib\\site-packages\\spacy\\displacy\\__init__.py:141: UserWarning: [W005] Doc object not parsed. This means displaCy won't be able to generate a dependency visualization for it. Make sure the Doc was processed with a model that supports dependency parsing, and not just a language class like `English()`. For more info, see the docs:\n",
      "https://spacy.io/usage/models\n",
      "  warnings.warn(Warnings.W005)\n"
     ]
    },
    {
     "data": {
      "text/html": [
       "<span class=\"tex2jax_ignore\"><svg xmlns=\"http://www.w3.org/2000/svg\" xmlns:xlink=\"http://www.w3.org/1999/xlink\" xml:lang=\"en\" id=\"77c4d1a81b6f487d8e978488ce4b9b71-0\" class=\"displacy\" width=\"925\" height=\"137.0\" direction=\"ltr\" style=\"max-width: none; height: 137.0px; color: #000000; background: #ffffff; font-family: Arial; direction: ltr\">\n",
       "<text class=\"displacy-token\" fill=\"currentColor\" text-anchor=\"middle\" y=\"47.0\">\n",
       "    <tspan class=\"displacy-word\" fill=\"currentColor\" x=\"50\">I</tspan>\n",
       "    <tspan class=\"displacy-tag\" dy=\"2em\" fill=\"currentColor\" x=\"50\">PRON</tspan>\n",
       "</text>\n",
       "\n",
       "<text class=\"displacy-token\" fill=\"currentColor\" text-anchor=\"middle\" y=\"47.0\">\n",
       "    <tspan class=\"displacy-word\" fill=\"currentColor\" x=\"225\">want</tspan>\n",
       "    <tspan class=\"displacy-tag\" dy=\"2em\" fill=\"currentColor\" x=\"225\">VERB</tspan>\n",
       "</text>\n",
       "\n",
       "<text class=\"displacy-token\" fill=\"currentColor\" text-anchor=\"middle\" y=\"47.0\">\n",
       "    <tspan class=\"displacy-word\" fill=\"currentColor\" x=\"400\">to</tspan>\n",
       "    <tspan class=\"displacy-tag\" dy=\"2em\" fill=\"currentColor\" x=\"400\">PART</tspan>\n",
       "</text>\n",
       "\n",
       "<text class=\"displacy-token\" fill=\"currentColor\" text-anchor=\"middle\" y=\"47.0\">\n",
       "    <tspan class=\"displacy-word\" fill=\"currentColor\" x=\"575\">learn</tspan>\n",
       "    <tspan class=\"displacy-tag\" dy=\"2em\" fill=\"currentColor\" x=\"575\">VERB</tspan>\n",
       "</text>\n",
       "\n",
       "<text class=\"displacy-token\" fill=\"currentColor\" text-anchor=\"middle\" y=\"47.0\">\n",
       "    <tspan class=\"displacy-word\" fill=\"currentColor\" x=\"750\">spaCy.</tspan>\n",
       "    <tspan class=\"displacy-tag\" dy=\"2em\" fill=\"currentColor\" x=\"750\">ADJ</tspan>\n",
       "</text>\n",
       "</svg></span>"
      ],
      "text/plain": [
       "<IPython.core.display.HTML object>"
      ]
     },
     "metadata": {},
     "output_type": "display_data"
    }
   ],
   "source": [
    "doc = nlp(u'I want to learn spaCy.')\n",
    "displacy.render(doc, style='dep')"
   ]
  },
  {
   "cell_type": "code",
   "execution_count": 43,
   "id": "974b5673",
   "metadata": {},
   "outputs": [
    {
     "data": {
      "text/html": [
       "<span class=\"tex2jax_ignore\"><svg xmlns=\"http://www.w3.org/2000/svg\" xmlns:xlink=\"http://www.w3.org/1999/xlink\" xml:lang=\"en\" id=\"c0bc889dc0b342f585eefdc1cf3ea38a-0\" class=\"displacy\" width=\"925\" height=\"137.0\" direction=\"ltr\" style=\"max-width: none; height: 137.0px; color: #000000; background: #ffffff; font-family: Arial; direction: ltr\">\n",
       "<text class=\"displacy-token\" fill=\"currentColor\" text-anchor=\"middle\" y=\"47.0\">\n",
       "    <tspan class=\"displacy-word\" fill=\"currentColor\" x=\"50\">How</tspan>\n",
       "    <tspan class=\"displacy-tag\" dy=\"2em\" fill=\"currentColor\" x=\"50\">SCONJ</tspan>\n",
       "</text>\n",
       "\n",
       "<text class=\"displacy-token\" fill=\"currentColor\" text-anchor=\"middle\" y=\"47.0\">\n",
       "    <tspan class=\"displacy-word\" fill=\"currentColor\" x=\"225\">do</tspan>\n",
       "    <tspan class=\"displacy-tag\" dy=\"2em\" fill=\"currentColor\" x=\"225\">AUX</tspan>\n",
       "</text>\n",
       "\n",
       "<text class=\"displacy-token\" fill=\"currentColor\" text-anchor=\"middle\" y=\"47.0\">\n",
       "    <tspan class=\"displacy-word\" fill=\"currentColor\" x=\"400\">I</tspan>\n",
       "    <tspan class=\"displacy-tag\" dy=\"2em\" fill=\"currentColor\" x=\"400\">PRON</tspan>\n",
       "</text>\n",
       "\n",
       "<text class=\"displacy-token\" fill=\"currentColor\" text-anchor=\"middle\" y=\"47.0\">\n",
       "    <tspan class=\"displacy-word\" fill=\"currentColor\" x=\"575\">learn</tspan>\n",
       "    <tspan class=\"displacy-tag\" dy=\"2em\" fill=\"currentColor\" x=\"575\">VERB</tspan>\n",
       "</text>\n",
       "\n",
       "<text class=\"displacy-token\" fill=\"currentColor\" text-anchor=\"middle\" y=\"47.0\">\n",
       "    <tspan class=\"displacy-word\" fill=\"currentColor\" x=\"750\">spaCy.</tspan>\n",
       "    <tspan class=\"displacy-tag\" dy=\"2em\" fill=\"currentColor\" x=\"750\">ADJ</tspan>\n",
       "</text>\n",
       "</svg></span>"
      ],
      "text/plain": [
       "<IPython.core.display.HTML object>"
      ]
     },
     "metadata": {},
     "output_type": "display_data"
    }
   ],
   "source": [
    "doc = nlp(u'How do I learn spaCy.')\n",
    "displacy.render(doc, style='dep')"
   ]
  },
  {
   "cell_type": "code",
   "execution_count": 47,
   "id": "a776cd07",
   "metadata": {},
   "outputs": [
    {
     "name": "stdout",
     "output_type": "stream",
     "text": [
      "advmod\n",
      "aux\n",
      "nsubj\n",
      "Found\n"
     ]
    }
   ],
   "source": [
    "import spacy\n",
    "nlp = spacy.load('en_core_web_sm')\n",
    "def dep_pattern(doc):\n",
    "    for i in range(len(doc)-1):\n",
    "        print(doc[i].dep_)\n",
    "        if doc[i].dep_ == 'nsubj' and doc[i+1].dep_ == 'ROOT' and doc[i+2].dep_ =='acomp':\n",
    "            return True\n",
    "    return False\n",
    "doc = nlp(u'How do I learn spaCy.')\n",
    "if dep_pattern(doc):\n",
    "    print('Found')\n",
    "else:\n",
    "    print('Not found')"
   ]
  },
  {
   "cell_type": "code",
   "execution_count": null,
   "id": "115f1c0f",
   "metadata": {},
   "outputs": [],
   "source": []
  },
  {
   "cell_type": "code",
   "execution_count": null,
   "id": "ddcb8578",
   "metadata": {},
   "outputs": [],
   "source": []
  }
 ],
 "metadata": {
  "kernelspec": {
   "display_name": "spacy_kernel",
   "language": "python",
   "name": "spacy_kernel"
  },
  "language_info": {
   "codemirror_mode": {
    "name": "ipython",
    "version": 3
   },
   "file_extension": ".py",
   "mimetype": "text/x-python",
   "name": "python",
   "nbconvert_exporter": "python",
   "pygments_lexer": "ipython3",
   "version": "3.9.12"
  }
 },
 "nbformat": 4,
 "nbformat_minor": 5
}
